{
 "cells": [
  {
   "cell_type": "code",
   "execution_count": 1,
   "metadata": {},
   "outputs": [],
   "source": [
    "# Import the SQL ALchemy engine\n",
    "from sqlalchemy import create_engine"
   ]
  },
  {
   "cell_type": "code",
   "execution_count": 2,
   "metadata": {},
   "outputs": [],
   "source": [
    "# Database credentials\n",
    "postgres_user = 'dsbc_student'\n",
    "postgres_pw = '7*.8G9QH21'\n",
    "postgres_host = '142.93.121.174'\n",
    "postgres_port = '5432'\n",
    "postgres_db = 'medicalcosts'\n",
    "\n",
    "# use the credentials to start a connection\n",
    "engine = create_engine('postgresql://{}:{}@{}:{}/{}'.format(\n",
    "    postgres_user, postgres_pw, postgres_host, postgres_port, postgres_db))"
   ]
  },
  {
   "cell_type": "code",
   "execution_count": 4,
   "metadata": {},
   "outputs": [
    {
     "name": "stdout",
     "output_type": "stream",
     "text": [
      "(19, 'female', 27.9, 0, 'yes', 'southwest', 16884.9)\n",
      "(18, 'male', 33.77, 1, 'no', 'southeast', 1725.55)\n",
      "(28, 'male', 33.0, 3, 'no', 'southeast', 4449.46)\n",
      "(33, 'male', 22.705, 0, 'no', 'northwest', 21984.5)\n",
      "(32, 'male', 28.88, 0, 'no', 'northwest', 3866.86)\n",
      "(31, 'female', 25.74, 0, 'no', 'southeast', 3756.62)\n",
      "(46, 'female', 33.44, 1, 'no', 'southeast', 8240.59)\n",
      "(37, 'female', 27.74, 3, 'no', 'northwest', 7281.51)\n",
      "(37, 'male', 29.83, 2, 'no', 'northeast', 6406.41)\n",
      "(60, 'female', 25.84, 0, 'no', 'northwest', 28923.1)\n"
     ]
    }
   ],
   "source": [
    "# Use the connection to execute some SQL\n",
    "insurance = engine.execute('select * from medicalcosts limit 10')\n",
    "\n",
    "# no need for an open connection, as we're only doing a single query\n",
    "engine.dispose()\n",
    "\n",
    "# Process the results\n",
    "for row in insurance:\n",
    "    print(row)\n"
   ]
  },
  {
   "cell_type": "code",
   "execution_count": 4,
   "metadata": {},
   "outputs": [
    {
     "data": {
      "text/plain": [
       "['age', 'sex', 'bmi', 'children', 'smoker', 'region', 'charges']"
      ]
     },
     "execution_count": 4,
     "metadata": {},
     "output_type": "execute_result"
    }
   ],
   "source": [
    "# get a list of the keys (column names) \n",
    "insurance.keys()"
   ]
  },
  {
   "cell_type": "code",
   "execution_count": 5,
   "metadata": {},
   "outputs": [],
   "source": [
    "for row in insurance:\n",
    " print(row)"
   ]
  },
  {
   "cell_type": "code",
   "execution_count": 9,
   "metadata": {},
   "outputs": [
    {
     "name": "stdout",
     "output_type": "stream",
     "text": [
      "(19, 'female', 27.9, 0, 'yes', 'southwest', 16884.9)\n",
      "(18, 'male', 33.77, 1, 'no', 'southeast', 1725.55)\n",
      "(28, 'male', 33.0, 3, 'no', 'southeast', 4449.46)\n",
      "(33, 'male', 22.705, 0, 'no', 'northwest', 21984.5)\n",
      "(32, 'male', 28.88, 0, 'no', 'northwest', 3866.86)\n",
      "(31, 'female', 25.74, 0, 'no', 'southeast', 3756.62)\n",
      "(46, 'female', 33.44, 1, 'no', 'southeast', 8240.59)\n",
      "(37, 'female', 27.74, 3, 'no', 'northwest', 7281.51)\n",
      "(37, 'male', 29.83, 2, 'no', 'northeast', 6406.41)\n",
      "(60, 'female', 25.84, 0, 'no', 'northwest', 28923.1)\n"
     ]
    }
   ],
   "source": [
    "# Execute the SQL statement again\n",
    "insurance = engine.execute('select * from medicalcosts limit 10')\n",
    "\n",
    "# dispose the connection\n",
    "engine.dispose()\n",
    "\n",
    "# use fetchall() to get a list of rows from the results.\n",
    "rows = insurance.fetchall()\n",
    "\n",
    "# now process the list of rows\n",
    "for row in rows:\n",
    "  print(row)\n"
   ]
  },
  {
   "cell_type": "code",
   "execution_count": null,
   "metadata": {},
   "outputs": [],
   "source": []
  }
 ],
 "metadata": {
  "kernelspec": {
   "display_name": "Python 3",
   "language": "python",
   "name": "python3"
  },
  "language_info": {
   "codemirror_mode": {
    "name": "ipython",
    "version": 3
   },
   "file_extension": ".py",
   "mimetype": "text/x-python",
   "name": "python",
   "nbconvert_exporter": "python",
   "pygments_lexer": "ipython3",
   "version": "3.7.3"
  }
 },
 "nbformat": 4,
 "nbformat_minor": 2
}
